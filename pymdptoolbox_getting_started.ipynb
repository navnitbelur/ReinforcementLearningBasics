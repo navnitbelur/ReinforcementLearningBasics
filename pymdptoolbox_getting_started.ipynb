{
 "cells": [
  {
   "cell_type": "markdown",
   "metadata": {},
   "source": [
    "# pymdptoolbox - Getting Started\n",
    "\n",
    "We'll take a look at a simple Markov Decision Process (MDP) and use value iteration to find the optimal policy and the expected value of the MDP.\n",
    "\n",
    "## The problem\n",
    "\n",
    "A forest is managed by two actions: ‘Wait’ and ‘Cut’. An action is decided each year with first the objective to maintain an old forest for wildlife and second to make money selling cut wood Each year there is a probability p that a fire burns the forest.\n",
    "\n",
    "## Visual Representation\n",
    "\n",
    "\n",
    "\n",
    "## Step 1\n",
    "\n",
    "Step 1 is to set up the transition probabilies and the rewards.\n",
    "\n",
    "The transition probabilities will be represented in a num actions x num states x num states matrix\n",
    "\n",
    "The rewards will be represented in a num states x num actions array"
   ]
  },
  {
   "cell_type": "code",
   "execution_count": 1,
   "metadata": {
    "collapsed": true
   },
   "outputs": [],
   "source": [
    "import mdptoolbox\n",
    "import numpy as np\n",
    "\n",
    "prob = np.zeros((2, 5, 5))\n",
    "\n",
    "# state transitions \n",
    "prob[0] = [[0.3, 0.7, 0., 0., 0.],\n",
    "           [0.3, 0.0, 0.7, 0., 0.],\n",
    "           [0.3, 0.0, 0., 0.7, 0.],\n",
    "           [0.3, 0.0, 0., 0., 0.7],\n",
    "           [0.3, 0.0, 0., 0., 0.7]]\n",
    "\n",
    "prob[1] = [[1., 0., 0., 0., 0.],\n",
    "           [1., 0., 0., 0., 0.],\n",
    "           [1., 0., 0., 0., 0.],\n",
    "           [1., 0., 0., 0., 0.],\n",
    "           [1., 0., 0., 0., 0.]]\n",
    "\n",
    "rewards = np.zeros((5, 2))\n",
    "rewards[0] = [0., 0.]\n",
    "rewards[1] = [0., 1.]\n",
    "rewards[2] = [0., 1.]\n",
    "rewards[3] = [0., 1.]\n",
    "rewards[4] = [0.3, 2.]"
   ]
  },
  {
   "cell_type": "code",
   "execution_count": null,
   "metadata": {
    "collapsed": true
   },
   "outputs": [],
   "source": []
  }
 ],
 "metadata": {
  "anaconda-cloud": {},
  "kernelspec": {
   "display_name": "Python [default]",
   "language": "python",
   "name": "python2"
  },
  "language_info": {
   "codemirror_mode": {
    "name": "ipython",
    "version": 2
   },
   "file_extension": ".py",
   "mimetype": "text/x-python",
   "name": "python",
   "nbconvert_exporter": "python",
   "pygments_lexer": "ipython2",
   "version": "2.7.12"
  }
 },
 "nbformat": 4,
 "nbformat_minor": 1
}
